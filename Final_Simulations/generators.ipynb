{
 "cells": [
  {
   "cell_type": "code",
   "execution_count": 75,
   "id": "e9311ee8-a501-4e47-992a-a1dbae0b050b",
   "metadata": {},
   "outputs": [],
   "source": [
    "import simpy"
   ]
  },
  {
   "cell_type": "code",
   "execution_count": 58,
   "id": "a5a2e7dc-cc32-4c83-9e56-2718da9cb15d",
   "metadata": {},
   "outputs": [],
   "source": [
    "def square_gen(x):\n",
    "    for i in x:\n",
    "        yield(i*i)"
   ]
  },
  {
   "cell_type": "code",
   "execution_count": 70,
   "id": "ce457fe8-bf03-4f73-ba57-5c5b8cdd274b",
   "metadata": {},
   "outputs": [],
   "source": [
    "numbers = square_gen([2,4,6,8,10])"
   ]
  },
  {
   "cell_type": "code",
   "execution_count": 71,
   "id": "924edfa5-cb6b-4b7c-9da2-808f86d99830",
   "metadata": {},
   "outputs": [
    {
     "name": "stdout",
     "output_type": "stream",
     "text": [
      "4\n",
      "16\n",
      "36\n",
      "64\n",
      "100\n"
     ]
    }
   ],
   "source": [
    "for i in numbers:\n",
    "    print(i)"
   ]
  },
  {
   "cell_type": "code",
   "execution_count": 72,
   "id": "6c19bc74-62fd-4570-8ac4-f4712d5c0e25",
   "metadata": {},
   "outputs": [],
   "source": [
    "num = (x**2 for x in [2,4,6,8,10])"
   ]
  },
  {
   "cell_type": "code",
   "execution_count": 74,
   "id": "fd0ba685-31c0-4f25-9d35-790fd346aacc",
   "metadata": {},
   "outputs": [
    {
     "name": "stdout",
     "output_type": "stream",
     "text": [
      "[4, 16, 36, 64, 100]\n"
     ]
    }
   ],
   "source": [
    "print(list(num))"
   ]
  },
  {
   "cell_type": "code",
   "execution_count": null,
   "id": "9eb0eda1-6ee6-4355-8b7c-5ed53d93f9e0",
   "metadata": {},
   "outputs": [],
   "source": []
  },
  {
   "cell_type": "code",
   "execution_count": null,
   "id": "ad2d69b0-d588-42ab-b525-f929f70c6a82",
   "metadata": {},
   "outputs": [],
   "source": []
  },
  {
   "cell_type": "code",
   "execution_count": null,
   "id": "42d98043-1766-4c8f-ad04-f56e3d930d6a",
   "metadata": {},
   "outputs": [],
   "source": []
  },
  {
   "cell_type": "code",
   "execution_count": null,
   "id": "19a0137f-5499-4ea1-b711-11dd3af36e97",
   "metadata": {},
   "outputs": [],
   "source": []
  },
  {
   "cell_type": "code",
   "execution_count": null,
   "id": "3b0ddc60-18cc-403f-9ecb-3c6259c51209",
   "metadata": {},
   "outputs": [],
   "source": []
  },
  {
   "cell_type": "code",
   "execution_count": null,
   "id": "e8b3e6e9-3178-4b52-9fb7-a83f04c226c2",
   "metadata": {},
   "outputs": [],
   "source": []
  },
  {
   "cell_type": "code",
   "execution_count": null,
   "id": "788da7eb-79a8-4c41-8ab5-e6bddc6b3c06",
   "metadata": {},
   "outputs": [],
   "source": []
  },
  {
   "cell_type": "code",
   "execution_count": null,
   "id": "a9e66d6f-c937-4510-8b32-c22f184b5f22",
   "metadata": {},
   "outputs": [],
   "source": []
  },
  {
   "cell_type": "code",
   "execution_count": null,
   "id": "341d307a-4238-4859-a14b-d360a644989c",
   "metadata": {},
   "outputs": [],
   "source": []
  },
  {
   "cell_type": "code",
   "execution_count": null,
   "id": "600a974c-505c-4cc7-9bf6-5be3c1165f78",
   "metadata": {},
   "outputs": [],
   "source": []
  },
  {
   "cell_type": "code",
   "execution_count": null,
   "id": "de50c37d-3e83-4f02-9ca9-da8158c9a8fa",
   "metadata": {},
   "outputs": [],
   "source": []
  },
  {
   "cell_type": "code",
   "execution_count": null,
   "id": "0c1ba9ca-d333-468e-b56b-e718b72466d4",
   "metadata": {},
   "outputs": [],
   "source": []
  },
  {
   "cell_type": "code",
   "execution_count": null,
   "id": "da2dc6cc-7bae-4923-9c0e-bde948c30e74",
   "metadata": {},
   "outputs": [],
   "source": []
  },
  {
   "cell_type": "code",
   "execution_count": null,
   "id": "bf817032-d32d-40cb-996d-a0f0eac65d67",
   "metadata": {},
   "outputs": [],
   "source": []
  },
  {
   "cell_type": "code",
   "execution_count": null,
   "id": "4e65af26-f705-4fe0-84d9-3e31034477a6",
   "metadata": {},
   "outputs": [],
   "source": []
  },
  {
   "cell_type": "code",
   "execution_count": null,
   "id": "5911b8c1-cee4-4d99-a86c-6dc3be4c5abe",
   "metadata": {},
   "outputs": [],
   "source": []
  },
  {
   "cell_type": "code",
   "execution_count": null,
   "id": "fd600ce4-fd55-4275-8e03-82a829f428f1",
   "metadata": {},
   "outputs": [],
   "source": []
  },
  {
   "cell_type": "code",
   "execution_count": null,
   "id": "19b7e908-18f7-4e3c-b5bb-60d186ed100b",
   "metadata": {},
   "outputs": [],
   "source": []
  },
  {
   "cell_type": "code",
   "execution_count": null,
   "id": "6200bc82-7fcd-4faa-972c-f5bd82ca10cf",
   "metadata": {},
   "outputs": [],
   "source": []
  },
  {
   "cell_type": "code",
   "execution_count": null,
   "id": "0b4e5742-12f1-4f69-a1ca-99b6c33a8588",
   "metadata": {},
   "outputs": [],
   "source": []
  },
  {
   "cell_type": "code",
   "execution_count": null,
   "id": "053e0e12-d21f-4a6f-acec-5e746f8f1b80",
   "metadata": {},
   "outputs": [],
   "source": []
  }
 ],
 "metadata": {
  "kernelspec": {
   "display_name": "Python 3",
   "language": "python",
   "name": "python3"
  },
  "language_info": {
   "codemirror_mode": {
    "name": "ipython",
    "version": 3
   },
   "file_extension": ".py",
   "mimetype": "text/x-python",
   "name": "python",
   "nbconvert_exporter": "python",
   "pygments_lexer": "ipython3",
   "version": "3.8.5"
  }
 },
 "nbformat": 4,
 "nbformat_minor": 5
}
