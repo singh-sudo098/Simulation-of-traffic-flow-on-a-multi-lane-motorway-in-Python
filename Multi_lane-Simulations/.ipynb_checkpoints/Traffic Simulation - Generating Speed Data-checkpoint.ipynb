{
 "cells": [
  {
   "cell_type": "markdown",
   "id": "cutting-payment",
   "metadata": {
    "toc": true
   },
   "source": [
    "<h1>Table of Contents<span class=\"tocSkip\"></span></h1>\n",
    "<div class=\"toc\"><ul class=\"toc-item\"><li><span><a href=\"#Generating-Data-for-Motorway-Speed\" data-toc-modified-id=\"Generating-Data-for-Motorway-Speed-1\"><span class=\"toc-item-num\">1&nbsp;&nbsp;</span>Generating Data for Motorway Speed</a></span></li></ul></div>"
   ]
  },
  {
   "cell_type": "code",
   "execution_count": 1,
   "id": "removable-exchange",
   "metadata": {
    "ExecuteTime": {
     "end_time": "2021-03-29T18:07:49.722689Z",
     "start_time": "2021-03-29T18:07:48.113869Z"
    }
   },
   "outputs": [],
   "source": [
    "import pandas as pd\n",
    "import matplotlib as mpl\n",
    "import matplotlib.pyplot as plt\n",
    "import scipy.stats as stats\n",
    "import math\n",
    "import numpy as np\n",
    "import random\n",
    "\n",
    "import simpy\n",
    "import simpy.events as evt"
   ]
  },
  {
   "cell_type": "markdown",
   "id": "continental-drain",
   "metadata": {},
   "source": [
    "# Generating Data for Motorway Speed"
   ]
  },
  {
   "cell_type": "markdown",
   "id": "korean-optimum",
   "metadata": {},
   "source": [
    "Sources: [RSA Free Speed Survey 2011](https://www.rsa.ie/Documents/Road%20Safety/Speed/Speed_survey_2011.pdf)\n",
    "and \n",
    "[RSA Free Speed Survey 2018](https://www.rsa.ie/Documents/Road%20Safety/Speed/RRD_Res_20190204_FreeSpeedSurvey2018FINAL.pdf)"
   ]
  },
  {
   "cell_type": "markdown",
   "id": "nominated-bennett",
   "metadata": {},
   "source": [
    "A survey of 1200 Irish drivers gives the following distribution of free speed on a motorway:"
   ]
  },
  {
   "cell_type": "markdown",
   "id": "settled-wright",
   "metadata": {},
   "source": [
    "<img src='FreeSpeed.png' width=600/>"
   ]
  },
  {
   "cell_type": "markdown",
   "id": "experimental-insertion",
   "metadata": {},
   "source": [
    "As the Survey Data are not actually available, we generate a sample matching this histogram:"
   ]
  },
  {
   "cell_type": "code",
   "execution_count": 2,
   "id": "nearby-hypothetical",
   "metadata": {
    "ExecuteTime": {
     "end_time": "2021-03-29T18:07:49.730865Z",
     "start_time": "2021-03-29T18:07:49.725245Z"
    }
   },
   "outputs": [],
   "source": [
    "free_speed = [ 60, 70, 80, 90, 100, 110, 120, 130, 140, 150, 160, 170 ]\n",
    "quantiles = np.cumsum([0, 0.003, 0.014, 0.052, 0.148, 0.27, 0.309, 0.143, 0.048, 0.01, 0.003])\n",
    "\n",
    "def random_speed():\n",
    "    u = random.random() # generates uniformly distributed random number between 0 and 1\n",
    "    for i in range(len(quantiles)):\n",
    "        if u<quantiles[i+1]:\n",
    "            p = (u-quantiles[i])/(quantiles[i+1]-quantiles[i])\n",
    "            return free_speed[i]*p+free_speed[i+1]*(1-p)"
   ]
  },
  {
   "cell_type": "code",
   "execution_count": 11,
   "id": "meaningful-heath",
   "metadata": {
    "ExecuteTime": {
     "end_time": "2021-03-29T18:12:05.026345Z",
     "start_time": "2021-03-29T18:12:05.021125Z"
    }
   },
   "outputs": [
    {
     "data": {
      "text/plain": [
       "array([0.   , 0.003, 0.017, 0.069, 0.217, 0.487, 0.796, 0.939, 0.987,\n",
       "       0.997, 1.   ])"
      ]
     },
     "execution_count": 11,
     "metadata": {},
     "output_type": "execute_result"
    }
   ],
   "source": [
    "quantiles"
   ]
  },
  {
   "cell_type": "code",
   "execution_count": 12,
   "id": "molecular-racing",
   "metadata": {
    "ExecuteTime": {
     "end_time": "2021-03-29T18:13:30.718803Z",
     "start_time": "2021-03-29T18:13:30.525888Z"
    }
   },
   "outputs": [
    {
     "data": {
      "image/png": "[encoded data removed]",
      "text/plain": [
       "<Figure size 432x288 with 1 Axes>"
      ]
     },
     "metadata": {
      "needs_background": "light"
     },
     "output_type": "display_data"
    }
   ],
   "source": [
    "random.seed(0)\n",
    "speeds = [ random_speed() for i in range(1200)]\n",
    "hist = plt.hist(speeds, bins=10, density=True)"
   ]
  },
  {
   "cell_type": "markdown",
   "id": "sitting-tourism",
   "metadata": {},
   "source": [
    "This simple approach generates however a stepwise distribution function, which may have undesired side effects for large sample sets, as we can see in this example:"
   ]
  },
  {
   "cell_type": "code",
   "execution_count": 13,
   "id": "novel-rough",
   "metadata": {
    "ExecuteTime": {
     "end_time": "2021-03-29T18:13:47.254947Z",
     "start_time": "2021-03-29T18:13:45.725503Z"
    }
   },
   "outputs": [
    {
     "data": {
      "image/png": "[encoded data removed]",
      "text/plain": [
       "<Figure size 432x288 with 1 Axes>"
      ]
     },
     "metadata": {
      "needs_background": "light"
     },
     "output_type": "display_data"
    }
   ],
   "source": [
    "random.seed(0)\n",
    "speeds = [ random_speed() for i in range(100000)]\n",
    "hist = plt.hist(speeds, bins=100, density=True)"
   ]
  },
  {
   "cell_type": "markdown",
   "id": "heavy-electron",
   "metadata": {},
   "source": [
    "Based on the reconstructed survey data we generate a gaussian kernel that matches the histogram;"
   ]
  },
  {
   "cell_type": "code",
   "execution_count": 5,
   "id": "cathedral-filter",
   "metadata": {
    "ExecuteTime": {
     "end_time": "2021-03-29T18:07:51.477575Z",
     "start_time": "2021-03-29T18:07:51.460594Z"
    }
   },
   "outputs": [],
   "source": [
    "random.seed(0)\n",
    "speeds = [ random_speed() for i in range(1200)]\n",
    "kernel = stats.gaussian_kde(speeds)"
   ]
  },
  {
   "cell_type": "markdown",
   "id": "rural-stationery",
   "metadata": {},
   "source": [
    "The plot below shows an overlay of the kernel distribution function with the original histogram:"
   ]
  },
  {
   "cell_type": "code",
   "execution_count": 14,
   "id": "general-bearing",
   "metadata": {
    "ExecuteTime": {
     "end_time": "2021-03-29T18:14:49.933276Z",
     "start_time": "2021-03-29T18:14:49.068102Z"
    }
   },
   "outputs": [
    {
     "data": {
      "image/png": "[encoded data removed]",
      "text/plain": [
       "<Figure size 432x288 with 1 Axes>"
      ]
     },
     "metadata": {
      "needs_background": "light"
     },
     "output_type": "display_data"
    }
   ],
   "source": [
    "plt.hist(speeds, bins=10, density=True)\n",
    "x = np.arange(60, 160, 1)\n",
    "y = kernel(x)\n",
    "plot = plt.plot(x, y, color='red')"
   ]
  },
  {
   "cell_type": "markdown",
   "id": "graduate-quick",
   "metadata": {},
   "source": [
    "We integrate the kernel and define a new generator for random speed data that follows the kernel distribution function:"
   ]
  },
  {
   "cell_type": "code",
   "execution_count": 7,
   "id": "understanding-appreciation",
   "metadata": {
    "ExecuteTime": {
     "end_time": "2021-03-29T18:07:51.698494Z",
     "start_time": "2021-03-29T18:07:51.674594Z"
    }
   },
   "outputs": [],
   "source": [
    "v = np.arange(30, 191)\n",
    "q = [ kernel.integrate_box_1d(30, i) for i in v ]\n",
    "\n",
    "def freeMotorwaySpeed():\n",
    "    u = random.random() # generates uniformly distributed random number between 0 and 1\n",
    "    for i in range(len(q)):\n",
    "        if u<q[i+1]:\n",
    "            p = (u-q[i])/(q[i+1]-q[i])\n",
    "            # return (free_speed[i+1]+free_speed[i])/2*p+(1-p)*(free_speed[i+1]+free_speed[i+2])/2\n",
    "            return v[i]*p+v[i+1]*(1-p)"
   ]
  },
  {
   "cell_type": "markdown",
   "id": "celtic-ocean",
   "metadata": {},
   "source": [
    "To test the new rspeed generator for speed data we generate a large number of test data and check the distribution:"
   ]
  },
  {
   "cell_type": "code",
   "execution_count": 15,
   "id": "available-amsterdam",
   "metadata": {
    "ExecuteTime": {
     "end_time": "2021-03-29T18:16:26.304042Z",
     "start_time": "2021-03-29T18:16:23.891644Z"
    }
   },
   "outputs": [],
   "source": [
    "random.seed(0)\n",
    "rspeeds = [ freeMotorwaySpeed() for i in range(100000) ]"
   ]
  },
  {
   "cell_type": "markdown",
   "id": "rising-investment",
   "metadata": {},
   "source": [
    "With a small number of bins we demonstrate that it matches the original survey data:"
   ]
  },
  {
   "cell_type": "code",
   "execution_count": 16,
   "id": "renewable-cookie",
   "metadata": {
    "ExecuteTime": {
     "end_time": "2021-03-29T18:16:30.693905Z",
     "start_time": "2021-03-29T18:16:29.728439Z"
    }
   },
   "outputs": [
    {
     "data": {
      "image/png": "[encoded data removed]",
      "text/plain": [
       "<Figure size 432x288 with 1 Axes>"
      ]
     },
     "metadata": {
      "needs_background": "light"
     },
     "output_type": "display_data"
    }
   ],
   "source": [
    "h = plt.hist(rspeeds, bins=10, density=True)\n",
    "x = np.arange(60, 160, 1)\n",
    "y = kernel(x)\n",
    "plot = plt.plot(x, y, color='red')"
   ]
  },
  {
   "cell_type": "markdown",
   "id": "physical-observer",
   "metadata": {},
   "source": [
    "And a *high-resolution* histogram demonstrates that the random variables are smoothly distributed:"
   ]
  },
  {
   "cell_type": "code",
   "execution_count": 17,
   "id": "subsequent-village",
   "metadata": {
    "ExecuteTime": {
     "end_time": "2021-03-29T18:16:42.038815Z",
     "start_time": "2021-03-29T18:16:39.149938Z"
    }
   },
   "outputs": [
    {
     "data": {
      "image/png": "[encoded data removed]",
      "text/plain": [
       "<Figure size 432x288 with 1 Axes>"
      ]
     },
     "metadata": {
      "needs_background": "light"
     },
     "output_type": "display_data"
    }
   ],
   "source": [
    "h = plt.hist(rspeeds, bins=1000, density=True)\n",
    "x = np.arange(60, 160, 1)\n",
    "y = kernel(x)\n",
    "plot = plt.plot(x, y, color='red')"
   ]
  },
  {
   "cell_type": "code",
   "execution_count": null,
   "id": "cathedral-commonwealth",
   "metadata": {},
   "outputs": [],
   "source": []
  }
 ],
 "metadata": {
  "kernelspec": {
   "display_name": "Python 3",
   "language": "python",
   "name": "python3"
  },
  "language_info": {
   "codemirror_mode": {
    "name": "ipython",
    "version": 3
   },
   "file_extension": ".py",
   "mimetype": "text/x-python",
   "name": "python",
   "nbconvert_exporter": "python",
   "pygments_lexer": "ipython3",
   "version": "3.8.5"
  },
  "latex_envs": {
   "LaTeX_envs_menu_present": true,
   "autoclose": false,
   "autocomplete": true,
   "bibliofile": "biblio.bib",
   "cite_by": "apalike",
   "current_citInitial": 1,
   "eqLabelWithNumbers": true,
   "eqNumInitial": 1,
   "hotkeys": {
    "equation": "Ctrl-E",
    "itemize": "Ctrl-I"
   },
   "labels_anchors": false,
   "latex_user_defs": false,
   "report_style_numbering": false,
   "user_envs_cfg": false
  },
  "toc": {
   "base_numbering": 1,
   "nav_menu": {},
   "number_sections": true,
   "sideBar": true,
   "skip_h1_title": false,
   "title_cell": "Table of Contents",
   "title_sidebar": "Contents",
   "toc_cell": true,
   "toc_position": {},
   "toc_section_display": true,
   "toc_window_display": false
  },
  "varInspector": {
   "cols": {
    "lenName": 16,
    "lenType": 16,
    "lenVar": 40
   },
   "kernels_config": {
    "python": {
     "delete_cmd_postfix": "",
     "delete_cmd_prefix": "del ",
     "library": "var_list.py",
     "varRefreshCmd": "print(var_dic_list())"
    },
    "r": {
     "delete_cmd_postfix": ") ",
     "delete_cmd_prefix": "rm(",
     "library": "var_list.r",
     "varRefreshCmd": "cat(var_dic_list()) "
    }
   },
   "types_to_exclude": [
    "module",
    "function",
    "builtin_function_or_method",
    "instance",
    "_Feature"
   ],
   "window_display": false
  }
 },
 "nbformat": 4,
 "nbformat_minor": 5
}
